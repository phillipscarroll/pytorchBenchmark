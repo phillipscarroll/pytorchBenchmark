{
 "cells": [
  {
   "cell_type": "code",
   "execution_count": 7,
   "metadata": {},
   "outputs": [
    {
     "name": "stderr",
     "output_type": "stream",
     "text": [
      "100%|██████████████████████████████████████████████████████████████████████████████████| 30/30 [00:21<00:00,  1.41it/s]"
     ]
    },
    {
     "name": "stdout",
     "output_type": "stream",
     "text": [
      "CPU time: 19.59413242\n",
      "CUDA 4070S time: 0.01759243\n",
      "CUDA 2080 time: 0.01374483\n"
     ]
    },
    {
     "name": "stderr",
     "output_type": "stream",
     "text": [
      "\n"
     ]
    }
   ],
   "source": [
    "import torch\n",
    "import time\n",
    "from tqdm import tqdm\n",
    "\n",
    "matrix_size = 3000\n",
    "loops = 15\n",
    "runs = 30\n",
    "total_cpu_time = 0\n",
    "total_gpu0_time = 0\n",
    "total_gpu1_time = 0\n",
    "\n",
    "\n",
    "for i in tqdm(range(runs)):\n",
    "\n",
    "    torch.manual_seed(42)\n",
    "    device_cpu = torch.device(\"cpu\")\n",
    "    A_cpu = torch.randn(matrix_size, matrix_size, device=device_cpu)\n",
    "    B_cpu = torch.randn(matrix_size, matrix_size, device=device_cpu)\n",
    "    start_time_cpu = time.time()\n",
    "    for _ in range(loops):\n",
    "        with torch.autocast(device_type=\"cpu\", enabled=False):\n",
    "            mul = torch.matmul(A_cpu, B_cpu)\n",
    "    cpu_time = time.time() - start_time_cpu\n",
    "    total_cpu_time += cpu_time\n",
    "\n",
    "    torch.cuda.manual_seed(42)\n",
    "    device_cuda0 = torch.device(\"cuda:0\")\n",
    "    A_cuda0 = torch.randn(matrix_size, matrix_size, device=device_cuda0)\n",
    "    B_cuda0 = torch.randn(matrix_size, matrix_size, device=device_cuda0)\n",
    "    start_time_cuda0 = time.time()\n",
    "    for _ in range(loops):\n",
    "        with torch.autocast(device_type=\"cuda\", dtype=torch.float16, enabled=True):\n",
    "            mul = torch.matmul(A_cuda0, B_cuda0)\n",
    "    cuda_time0 = time.time() - start_time_cuda0\n",
    "    total_gpu0_time += cuda_time0\n",
    "\n",
    "    torch.cuda.manual_seed(42)\n",
    "    device_cuda1 = torch.device(\"cuda:1\")\n",
    "    A_cuda1 = torch.randn(matrix_size, matrix_size, device=device_cuda1)\n",
    "    B_cuda1 = torch.randn(matrix_size, matrix_size, device=device_cuda1)\n",
    "    start_time_cuda1 = time.time()\n",
    "    for _ in range(loops):\n",
    "        with torch.autocast(device_type=\"cuda\", dtype=torch.float16, enabled=True):\n",
    "            mul = torch.matmul(A_cuda1, B_cuda1)\n",
    "    cuda_time1 = time.time() - start_time_cuda1\n",
    "    total_gpu1_time += cuda_time1\n",
    "\n",
    "    pass\n",
    "\n",
    "print(f\"CPU time: {total_cpu_time:.8f}\")\n",
    "print(f\"CUDA 4070S time: {total_gpu0_time:.8f}\")\n",
    "print(f\"CUDA 2080 time: {total_gpu1_time:.8f}\")"
   ]
  },
  {
   "cell_type": "code",
   "execution_count": null,
   "metadata": {},
   "outputs": [],
   "source": []
  }
 ],
 "metadata": {
  "kernelspec": {
   "display_name": "Python 3 (ipykernel)",
   "language": "python",
   "name": "python3"
  },
  "language_info": {
   "codemirror_mode": {
    "name": "ipython",
    "version": 3
   },
   "file_extension": ".py",
   "mimetype": "text/x-python",
   "name": "python",
   "nbconvert_exporter": "python",
   "pygments_lexer": "ipython3",
   "version": "3.12.8"
  }
 },
 "nbformat": 4,
 "nbformat_minor": 2
}
